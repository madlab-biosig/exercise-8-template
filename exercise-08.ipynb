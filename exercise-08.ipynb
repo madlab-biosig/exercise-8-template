{
 "cells": [
  {
   "cell_type": "markdown",
   "metadata": {},
   "source": [
    "<div class=\"alert-block alert-info alert\"> Hello! If this is your first assignment please read the following instructions:\n",
    "\n",
    "Read the questions carefully and code what is asked in the respective code block whenever you see a ``` #TODO: YOUR CODE HERE. ``` \n",
    "It is important to do the Coding tasks IN ORDER, as the majority of coding blocks are dependent on the \n",
    "previous coding blocks in the notebook.\n",
    "Please also note that there is a **raise NotImplementedError()** for each task or function you have to\n",
    "implement, so don't forget to remove it before testing your code, otherwise you will always get a \"not\n",
    "implemented\" error.\n",
    "\n",
    "You need to manually upload the data used in this exercise to Colab. Just create a folder 'data' and paste the respective files into this folder. Otherwise, you will get a 'File not found' error. You can find the data in StudOn.\n",
    "\n",
    "Aside from coding blocks, there are also testing blocks to check whether your implementations\n",
    "are correct, you can run them but do not change the code inside of them.\n",
    "The tests are determined via the ASSERT STATEMENTS that you see on the testing blocks, which can help you \n",
    "out during the coding of the exercises. If you pass all the visible asserts, you will probably get a good \n",
    "grade on the exercise, just remember that there are also hidden tests, so hardcoding the assert statements \n",
    "won't help you.\n",
    "\n",
    "REMEMBER: This Colab notebook DOES NOT HAVE AN AUTOSAVE FUNCTION, so whenever you want to close it, please\n",
    "remember to save it by clicking on the \"file\" tab in the upper left corner of the page, followed by \n",
    "clicking on the \"Save a copy to GitHub\" button and selecting your corresponding GitHub repository:\n",
    "\"madlab-biosig/exercise-x-YourGitHubUsername\"\n",
    "\n",
    "Before you save the final version of your assignment, please make sure everything runs as expected. \n",
    "First, **restart the kernel** (in the menubar, select Kernel$\\rightarrow$Restart) and then **run all \n",
    "cells** (in the menubar, select Cell$\\rightarrow$Run All).\n",
    "</div>"
   ]
  },
  {
   "cell_type": "markdown",
   "metadata": {
    "tags": []
   },
   "source": [
    "### BioSig Exercises WS 23/24\n",
    "---"
   ]
  },
  {
   "cell_type": "markdown",
   "metadata": {},
   "source": [
    "# Exercise 08 - 09.01.2024"
   ]
  },
  {
   "cell_type": "code",
   "execution_count": null,
   "metadata": {},
   "outputs": [],
   "source": [
    "# Imports and basic setup\n",
    "### UNCOMMENT THE CORRECT ONE\n",
    "# If you are using Jupyter Lab\n",
    "%matplotlib widget\n",
    "\n",
    "# If you are using Jupyter Notebook\n",
    "# %matplotlib notebook\n",
    "\n",
    "import matplotlib.pyplot as plt\n",
    "import pandas as pd\n",
    "import numpy as np"
   ]
  },
  {
   "cell_type": "code",
   "execution_count": null,
   "metadata": {},
   "outputs": [],
   "source": [
    "from scipy import signal"
   ]
  },
  {
   "cell_type": "code",
   "execution_count": null,
   "metadata": {},
   "outputs": [],
   "source": [
    "def pole_zero_plot(b, a, ax=None):\n",
    "    from matplotlib import patches\n",
    "\n",
    "    zeros, poles, _ = signal.tf2zpk(b, a)\n",
    "    print(\"zeros: \", zeros, \"\\n poles:\", poles)\n",
    "\n",
    "    # To visualize pole-zero plane: plot unit circle and x,y axis\n",
    "    if not ax:\n",
    "        plt.figure()\n",
    "        ax = plt.subplot(1, 1, 1)\n",
    "    \n",
    "    # Check for duplicates poles or zeros\n",
    "    import collections\n",
    "    multi_pole = ((k, v) for k, v in collections.Counter(poles).items() if v > 1)\n",
    "    multi_zeros = ((k, v) for k, v in collections.Counter(zeros).items() if v > 1)\n",
    "\n",
    "    # plot circle\n",
    "    circ = patches.Circle((0, 0), radius=1, fill=False,\n",
    "                                 color='black', ls='solid', alpha=0.1)\n",
    "    ax.add_patch(circ)\n",
    "\n",
    "    #plot axis\n",
    "    ax.axhline(y=0, color='0.9')\n",
    "    ax.axvline(x=0, color='0.9')\n",
    "\n",
    "    # plot poles and zeros\n",
    "    ax.plot(zeros.real, zeros.imag, 'o', markersize=9, alpha=0.5)\n",
    "    ax.plot(poles.real, poles.imag, 'x', markersize=9, alpha=0.5)\n",
    "    \n",
    "    # Add label for duplicates\n",
    "    import itertools\n",
    "    for pos, c in itertools.chain(multi_pole, multi_zeros):\n",
    "        ax.text(pos.real, pos.imag, c, fontsize=12)\n",
    "\n",
    "    ax.axis('scaled')\n",
    "    ax.axis([-1.5, 1.5, -1.5, 1.5])\n",
    "    \n",
    "    ax.set_xlabel('Re')\n",
    "    ax.set_ylabel('Im')\n",
    "    \n",
    "def plot_freq_response(b, a, sampling_rate=None, log_y=True,create_new_fig=True, label=None):\n",
    "    \"\"\"Plot the freq response of a window.\n",
    "    \n",
    "    Args:\n",
    "        coef: The coefficients of the window\n",
    "        sampling_rate: The sampling rate of a potential signal to be filtered with the window\n",
    "        log_y: If True the y=axis will be in base 10 log.\n",
    "        create_new_fig: If True a new figure is created for the plot\n",
    "    \"\"\"\n",
    "    if create_new_fig:\n",
    "        plt.figure()\n",
    "    ax1 = plt.gca()\n",
    "    # Calculate the frequency response using scipy.signal.freqz \n",
    "    # Use the fs parameter to calculate the output relative to the sampling rate\n",
    "    w, h = signal.freqz(b, a, fs=sampling_rate)    \n",
    "    if log_y is True:\n",
    "        h_plot = 20 * np.log10(abs(h))\n",
    "        ax1.set_ylabel('Amplification [dB]', color='b')\n",
    "    else:\n",
    "        h_plot = abs(h)\n",
    "        ax1.set_ylabel('Amplification [no unit]', color='b')\n",
    "    \n",
    "    ax1.plot(w, h_plot, 'b', label=label)\n",
    "    ax1.set_xlabel('Frequency [Hz]')\n",
    "    ax2 = ax1.twinx()\n",
    "    angles = np.unwrap(np.angle(h))\n",
    "    ax2.plot(w, angles, 'g', label=label)\n",
    "    ax2.set_ylabel('Angle (radians)', color='g')\n",
    "    ax2.grid()\n",
    "    ax2.axis('tight')"
   ]
  },
  {
   "cell_type": "markdown",
   "metadata": {
    "tags": []
   },
   "source": [
    "## Ex 8.1: Butterworth Low Pass Filter\n",
    "\n",
    "The Butterworth filter is one of the most important filters because of its flat passband.\n",
    "\n",
    "a) Use the function `scipy.signal.butter` to design a digital filter butterworth lowpass filter of order 20, with cut off frequency 25.\n",
    "Plot the magnitude response and the Pole Zero Plot for filters of orders given below. \n",
    "\n",
    "b) Change the cutoff frequency. Explain how the poles and zeros move in the z-plane depending on the filter order and the cut-off frequency.\n",
    "\n",
    "c) Apply the filters of different order to an example signal and describe the differences between the outputs"
   ]
  },
  {
   "cell_type": "markdown",
   "metadata": {
    "deletable": false,
    "nbgrader": {
     "cell_type": "markdown",
     "checksum": "82fa3025028120a526b89ad481db58c7",
     "grade": true,
     "grade_id": "cell-60217b44ff53a2dc",
     "locked": false,
     "points": 0,
     "schema_version": 3,
     "solution": true,
     "task": false
    },
    "tags": []
   },
   "source": [
    "YOUR ANSWER HERE"
   ]
  },
  {
   "cell_type": "code",
   "execution_count": null,
   "metadata": {
    "deletable": false,
    "nbgrader": {
     "cell_type": "code",
     "checksum": "60448fe3b77b69bb217f7389401aaab8",
     "grade": false,
     "grade_id": "cell-70e9f6f328b5e11a",
     "locked": false,
     "schema_version": 3,
     "solution": true,
     "task": false
    },
    "tags": []
   },
   "outputs": [],
   "source": [
    "sampling_rate = 200\n",
    "\n",
    "# Filter order\n",
    "ns = 20\n",
    "# Cutoff\n",
    "fc = 25\n",
    "\n",
    "# Calculate the magnitude responses for the filter orders provided above. PLOTS ARE NOT GRADED!!\n",
    "# Design lowpass butterworth filter of order 20, fc=25 \n",
    "# YOUR CODE HERE\n",
    "raise NotImplementedError()"
   ]
  },
  {
   "cell_type": "code",
   "execution_count": null,
   "metadata": {
    "deletable": false,
    "editable": false,
    "nbgrader": {
     "cell_type": "code",
     "checksum": "6a16f06cf6ef64194ee34b6c2c8e6843",
     "grade": true,
     "grade_id": "cell-7d2caafa6f637200",
     "locked": true,
     "points": 2,
     "schema_version": 3,
     "solution": false,
     "task": false
    },
    "tags": []
   },
   "outputs": [],
   "source": [
    "assert (21 ==len(b)), \"Your Filter Order is wrong\"\n",
    "assert (21 ==len(a)), \"Your Filter Order is wrong\"\n"
   ]
  },
  {
   "cell_type": "code",
   "execution_count": null,
   "metadata": {
    "deletable": false,
    "nbgrader": {
     "cell_type": "code",
     "checksum": "e9708a3907e5316c6c1d738572304616",
     "grade": true,
     "grade_id": "cell-6ae0bea2472b80ed",
     "locked": false,
     "points": 0,
     "schema_version": 3,
     "solution": true,
     "task": false
    },
    "tags": []
   },
   "outputs": [],
   "source": [
    "sampling_rate = 200\n",
    "\n",
    "# Filter orders\n",
    "ns = [1, 3, 7, 15, 25]\n",
    "# Cutoff\n",
    "fc = 25  # Try different values (e.g 100 Hz, 50 Hz and 75 Hz)\n",
    "\n",
    "# Plot the magnitude responses for the filter orders provided above. PLOTS ARE NOT GRADED!!\n",
    "# YOUR CODE HERE\n",
    "raise NotImplementedError()"
   ]
  },
  {
   "cell_type": "code",
   "execution_count": null,
   "metadata": {
    "deletable": false,
    "nbgrader": {
     "cell_type": "code",
     "checksum": "2f758b11669573a740c67eedb243a021",
     "grade": false,
     "grade_id": "cell-688347486013138b",
     "locked": false,
     "schema_version": 3,
     "solution": true,
     "task": false
    },
    "tags": []
   },
   "outputs": [],
   "source": [
    "# Plot the Pole-Zero Plots for each filter order\n",
    "# YOUR CODE HERE\n",
    "raise NotImplementedError()"
   ]
  },
  {
   "cell_type": "code",
   "execution_count": null,
   "metadata": {},
   "outputs": [],
   "source": [
    "from scipy.misc import electrocardiogram\n",
    "\n",
    "test_ecg = electrocardiogram()[65520:67000]\n",
    "test_sampling_rate = 360.\n",
    "x = np.arange(0, len(test_ecg)) / test_sampling_rate\n",
    "plt.figure()\n",
    "plt.plot(x, test_ecg)\n",
    "plt.xlabel('time [s]')"
   ]
  },
  {
   "cell_type": "code",
   "execution_count": null,
   "metadata": {
    "deletable": false,
    "nbgrader": {
     "cell_type": "code",
     "checksum": "d73a3cbf2f55218eb92255655837a478",
     "grade": false,
     "grade_id": "cell-0a2026c59ffe2320",
     "locked": false,
     "schema_version": 3,
     "solution": true,
     "task": false
    },
    "tags": []
   },
   "outputs": [],
   "source": [
    "# Apply the filter to the test signal\n",
    "# YOUR CODE HERE\n",
    "raise NotImplementedError()"
   ]
  },
  {
   "cell_type": "code",
   "execution_count": null,
   "metadata": {
    "deletable": false,
    "editable": false,
    "nbgrader": {
     "cell_type": "code",
     "checksum": "dabaaecb8b92a8d5bfe17e7defaa864d",
     "grade": true,
     "grade_id": "cell-eb0aeac5a8cb34a9",
     "locked": true,
     "points": 2,
     "schema_version": 3,
     "solution": false,
     "task": false
    },
    "tags": []
   },
   "outputs": [],
   "source": [
    "assert len(filtered_ecg==1480), \"The length of the filtered signal is incorrect\"\n"
   ]
  },
  {
   "cell_type": "markdown",
   "metadata": {},
   "source": [
    "## Exercise 8.2 IIR vs FIR\n",
    "\n",
    "a) Given the two transfer functions below: Which one belongs to and IIR and which belongs to a FIR filter? Explain!\n",
    "\n",
    "$$\n",
    "y[n] + 2y[n-1] = x[n] - x[n-1]\n",
    "$$\n",
    "\n",
    "$$\n",
    "y[n]= x[n] + 2x[n-1]\n",
    "$$\n",
    "\n",
    "b) Both, a Butterworth filter and a Moving Average filter can have low-pass characteristics. Design one filter of each group with the filter order 10.(moving average with window size 10). Choose a cutoff for the butterworth filter to match the 3 db cutoff of the moving average(round to nearest integer in Hz).\n",
    "Plot the phase and magnitude response. Compare the output. Which filter would you prefer?\n",
    "\n",
    "c) Increase the filter order of both filters. At some point the IIR filter will start behaving “strangely”. Explain what happens."
   ]
  },
  {
   "cell_type": "code",
   "execution_count": null,
   "metadata": {
    "deletable": false,
    "nbgrader": {
     "cell_type": "code",
     "checksum": "e0bc5f173de32bcef5578e239e798d3a",
     "grade": false,
     "grade_id": "cell-5ffadcab6ef09f68",
     "locked": false,
     "schema_version": 3,
     "solution": true,
     "task": false
    },
    "tags": []
   },
   "outputs": [],
   "source": [
    "n=10\n",
    "# Implement a FIR filter and plot its magnitude response. PLOTS ARE NOT GRADED!!\n",
    "# Select the fc from the FIR magnitude Response  plot\n",
    "\n",
    "# YOUR CODE HERE\n",
    "raise NotImplementedError()"
   ]
  },
  {
   "cell_type": "code",
   "execution_count": null,
   "metadata": {
    "deletable": false,
    "nbgrader": {
     "cell_type": "code",
     "checksum": "d2883f1c90c3332c0184dacc072cde97",
     "grade": false,
     "grade_id": "cell-d5dfc953af1b7323",
     "locked": false,
     "schema_version": 3,
     "solution": true,
     "task": false
    },
    "tags": []
   },
   "outputs": [],
   "source": [
    "# Implement a IIR filter and plot its magnitude response. PLOTS ARE NOT GRADED!!\n",
    "# YOUR CODE HERE\n",
    "raise NotImplementedError()"
   ]
  },
  {
   "cell_type": "code",
   "execution_count": null,
   "metadata": {
    "deletable": false,
    "editable": false,
    "nbgrader": {
     "cell_type": "code",
     "checksum": "4c53f6996b2008f7e68ffb0cbda5b047",
     "grade": true,
     "grade_id": "cell-b5dad44432d4f53e",
     "locked": true,
     "points": 2,
     "schema_version": 3,
     "solution": false,
     "task": false
    },
    "tags": []
   },
   "outputs": [],
   "source": [
    "assert (f_c==9), \"Your selected IIR Frequency is wrong\"\n",
    "assert (11==len(iir_b)), \"Your IIR filter order is incorrect\"\n",
    "assert (11==len(iir_a)), \"Your IIR filter order is incorrect\"\n",
    "assert (10==len(fir_b)), \"Your FIR filter order is incorrect\"\n",
    "assert (10==len(fir_a)), \"Your FIR filter order is incorrect\"\n"
   ]
  },
  {
   "cell_type": "code",
   "execution_count": null,
   "metadata": {
    "deletable": false,
    "nbgrader": {
     "cell_type": "code",
     "checksum": "37ab38b5af9672703bba17be3c822f9f",
     "grade": false,
     "grade_id": "cell-a4ecab5e7a89aa07",
     "locked": false,
     "schema_version": 3,
     "solution": true,
     "task": false
    },
    "tags": []
   },
   "outputs": [],
   "source": [
    "# Perform the same analysis as before, but with higher filter orders \n",
    "# YOUR CODE HERE\n",
    "raise NotImplementedError()\n",
    "\n",
    "assert (f_c==9), \"Your selected IIR Frequency is wrong\"\n",
    "assert (11<len(iir_b)), \"Your IIR filter order is incorrect\"\n",
    "assert (11<len(iir_a)), \"Your IIR filter order is incorrect\"\n",
    "assert (10<len(fir_b)), \"Your FIR filter order is incorrect\"\n",
    "assert (10<len(fir_a)), \"Your FIR filter order is incorrect\""
   ]
  },
  {
   "cell_type": "code",
   "execution_count": null,
   "metadata": {
    "deletable": false,
    "nbgrader": {
     "cell_type": "code",
     "checksum": "595ba16db5eaa7ab4261df389604d3ed",
     "grade": true,
     "grade_id": "cell-37afbe16a82ccd1f",
     "locked": false,
     "points": 0,
     "schema_version": 3,
     "solution": true,
     "task": false
    },
    "tags": []
   },
   "outputs": [],
   "source": [
    "# Investigate strange behaviour of the IIR filter\n",
    "# YOUR CODE HERE\n",
    "raise NotImplementedError()"
   ]
  }
 ],
 "metadata": {
  "kernelspec": {
   "display_name": "Python 3 (ipykernel)",
   "language": "python",
   "name": "python3"
  },
  "language_info": {
   "codemirror_mode": {
    "name": "ipython",
    "version": 3
   },
   "file_extension": ".py",
   "mimetype": "text/x-python",
   "name": "python",
   "nbconvert_exporter": "python",
   "pygments_lexer": "ipython3",
   "version": "3.10.11"
  }
 },
 "nbformat": 4,
 "nbformat_minor": 4
}
